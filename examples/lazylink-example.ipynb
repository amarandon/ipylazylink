{
 "cells": [
  {
   "cell_type": "markdown",
   "metadata": {},
   "source": [
    "# ipylazylink\n",
    "\n",
    "## Motivation\n",
    "\n",
    "When you present results in a notebook, you may want to allow users to download\n",
    "these results on their computer, typically in CSV or Excel format. In order to\n",
    "do this you would add to your notebook a link that points to a file, using\n",
    "something like\n",
    "[FileLink](https://ipython.org/ipython-doc/3/api/generated/IPython.display.html#IPython.display.FileLink).\n",
    "The problem with this approach is that the file must already exist, so you need to\n",
    "generate the file even if users never download it. When this file generation takes time and you have several such links, it can significanly slow down execution\n",
    "of your notebook for something that might never be used.\n",
    "\n",
    "The `LazyLink` widget aims at solving this problem by providing a link to a\n",
    "file that doesn't exist yet: a *lazy link*. The file gets created on-demand by a callback\n",
    "funtion that you provide. That function must return the path to the file that\n",
    "it creates.\n",
    "\n",
    "\n",
    "## Basic usage"
   ]
  },
  {
   "cell_type": "code",
   "execution_count": 9,
   "metadata": {},
   "outputs": [
    {
     "data": {
      "application/vnd.jupyter.widget-view+json": {
       "model_id": "e1cbb7c5ff14416baadbe9906100a90a",
       "version_major": 2,
       "version_minor": 0
      },
      "text/plain": [
       "LazyLink(style=ButtonStyle(), text='Download results as CSV')"
      ]
     },
     "metadata": {},
     "output_type": "display_data"
    }
   ],
   "source": [
    "import time\n",
    "from ipylazylink import LazyLink\n",
    "\n",
    "def create_file():\n",
    "    time.sleep(2)  # Simulate slow computation\n",
    "    filepath = \"output.csv\"\n",
    "    with open(filepath, \"w\") as fp:\n",
    "        fp.write(\"file content\")\n",
    "    return filepath\n",
    "\n",
    "w = LazyLink(text=\"Download results as CSV\")\n",
    "w.on_click(create_file)\n",
    "w"
   ]
  },
  {
   "cell_type": "markdown",
   "metadata": {},
   "source": [
    "## Link attributes"
   ]
  },
  {
   "cell_type": "code",
   "execution_count": 10,
   "metadata": {},
   "outputs": [],
   "source": [
    "w.text = \"New link text\"\n",
    "w.title = \"This title is visible on mouse hover\"\n",
    "w.download = \"suggest-different-filename.csv\"\n",
    "w.type = \"text/csv\""
   ]
  },
  {
   "cell_type": "code",
   "execution_count": null,
   "metadata": {},
   "outputs": [],
   "source": []
  }
 ],
 "metadata": {
  "kernelspec": {
   "display_name": "Python 3",
   "language": "python",
   "name": "python3"
  },
  "language_info": {
   "codemirror_mode": {
    "name": "ipython",
    "version": 3
   },
   "file_extension": ".py",
   "mimetype": "text/x-python",
   "name": "python",
   "nbconvert_exporter": "python",
   "pygments_lexer": "ipython3",
   "version": "3.6.5"
  }
 },
 "nbformat": 4,
 "nbformat_minor": 2
}
